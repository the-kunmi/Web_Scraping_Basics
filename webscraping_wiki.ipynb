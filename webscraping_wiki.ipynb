{
 "cells": [
  {
   "cell_type": "markdown",
   "metadata": {},
   "source": [
    "Importing the required libraries"
   ]
  },
  {
   "cell_type": "code",
   "execution_count": 2,
   "metadata": {},
   "outputs": [],
   "source": [
    "import requests\n",
    "from bs4 import BeautifulSoup"
   ]
  },
  {
   "cell_type": "markdown",
   "metadata": {},
   "source": [
    "Getting Wikipedia HTML"
   ]
  },
  {
   "cell_type": "code",
   "execution_count": 3,
   "metadata": {},
   "outputs": [],
   "source": [
    "url = 'https://en.wikipedia.org/wiki/Vatican_City'\n",
    "response = requests.get(url)\n",
    "soup = BeautifulSoup(response.content,'html.parser')\n"
   ]
  },
  {
   "cell_type": "markdown",
   "metadata": {},
   "source": [
    "Extracting Title"
   ]
  },
  {
   "cell_type": "code",
   "execution_count": 4,
   "metadata": {},
   "outputs": [
    {
     "data": {
      "text/plain": [
       "'Vatican City - Wikipedia'"
      ]
     },
     "execution_count": 4,
     "metadata": {},
     "output_type": "execute_result"
    }
   ],
   "source": [
    "title = soup.find('title').text\n",
    "title"
   ]
  },
  {
   "cell_type": "markdown",
   "metadata": {},
   "source": [
    "Getting Main Title: A concise name that reflects the operation performed."
   ]
  },
  {
   "cell_type": "code",
   "execution_count": 5,
   "metadata": {},
   "outputs": [
    {
     "data": {
      "text/plain": [
       "'Vatican City'"
      ]
     },
     "execution_count": 5,
     "metadata": {},
     "output_type": "execute_result"
    }
   ],
   "source": [
    "another_title = soup.find('span', class_ = \"mw-page-title-main\")\n",
    "another_title.text"
   ]
  },
  {
   "cell_type": "markdown",
   "metadata": {},
   "source": [
    "Hatnote Text Extraction: It emphasizes that it was extracted and prints the text from hatnotes."
   ]
  },
  {
   "cell_type": "code",
   "execution_count": 6,
   "metadata": {},
   "outputs": [
    {
     "name": "stdout",
     "output_type": "stream",
     "text": [
      "Further information: \n",
      "History of the Papacy\n",
      " and \n",
      "Holy See § History\n"
     ]
    }
   ],
   "source": [
    "History = soup.find_all('div' , class_ = \"hatnote navigation-not-searchable\")\n",
    "for i in History[1]:\n",
    "    print(i.text)"
   ]
  },
  {
   "cell_type": "markdown",
   "metadata": {},
   "source": [
    "History Text Display"
   ]
  },
  {
   "cell_type": "code",
   "execution_count": 7,
   "metadata": {},
   "outputs": [
    {
     "name": "stdout",
     "output_type": "stream",
     "text": [
      "Further information: History of the Papacy and Holy See § History\n"
     ]
    }
   ],
   "source": [
    "History = soup.select_one('div.hatnote.navigation-not-searchable:nth-of-type(3)')\n",
    "print(History.text if History else None)"
   ]
  },
  {
   "cell_type": "markdown",
   "metadata": {},
   "source": [
    "Scraping Image URLs"
   ]
  },
  {
   "cell_type": "code",
   "execution_count": 8,
   "metadata": {},
   "outputs": [
    {
     "name": "stdout",
     "output_type": "stream",
     "text": [
      "/wiki/File:Obelisk_of_St._Peter.jpg\n",
      "/wiki/File:Plan_of_Circus_Neronis_and_St._Peters.gif\n",
      "/wiki/File:Circus_of_Nero.png\n",
      "/wiki/File:Italy_1796.svg\n",
      "/wiki/File:The_British_Army_in_Italy_1944_NA16179.jpg\n",
      "/wiki/File:St_Peter%27s_Square,_Vatican_City_-_April_2007.jpg\n",
      "/wiki/File:Vatican_City_map_EN.svg\n",
      "/wiki/File:Vatican_City_annex.jpg\n",
      "/wiki/File:Portrait_of_Pope_Francis_(2021).jpg\n",
      "/wiki/File:20070610_Rome_29.jpg\n",
      "/wiki/File:Palace_of_the_Governorate._Vatican_City_State..jpg\n",
      "/wiki/File:20160424_035_Roma_-_Citt%C3%A0_del_Vaticano_-_Piazza_San_Pietro_(26436304050).jpg\n",
      "/wiki/File:Vaticano_-_Smart_elettrica_Gendarmeria_20231230.jpg\n",
      "/wiki/File:Crowds_in_St._Peter%27s_Square.jpg\n",
      "/wiki/File:Vatican_City_-_main_entrance_with_Swiss_Guard.jpg\n",
      "/wiki/File:United_Nations_members_de_facto_borders.svg\n",
      "/wiki/File:Musei_Vaticani._Braccio_Nuovo.JPG\n",
      "/wiki/File:Seal_of_Vatican_City.svg\n",
      "/wiki/File:Basilica_di_San_Pietro_in_Vaticano_September_2015-1a.jpg\n",
      "/wiki/File:0_Gare_du_Vatican.JPG\n",
      "/wiki/File:Pay_phone_in_the_Vatican_City.jpg\n",
      "/wiki/File:Poste_Vaticane.jpg\n"
     ]
    }
   ],
   "source": [
    "# Find all \n",
    "all_picture_links = soup.find_all('figure', class_ = 'mw-default-size')\n",
    "\n",
    "for i in all_picture_links:\n",
    "    link = i.find('a', href=True)\n",
    "    if link:\n",
    "        print(link['href'])"
   ]
  },
  {
   "cell_type": "markdown",
   "metadata": {},
   "source": [
    "Extracting Table of Contents"
   ]
  },
  {
   "cell_type": "code",
   "execution_count": 9,
   "metadata": {},
   "outputs": [
    {
     "name": "stdout",
     "output_type": "stream",
     "text": [
      "(Top)\n",
      "1\n",
      "Name\n",
      "2\n",
      "History\n",
      "2.1\n",
      "Early history\n",
      "2.2\n",
      "Papal States\n",
      "2.3\n",
      "Under Italian rule (1871–1929)\n",
      "2.4\n",
      "Lateran treaties\n",
      "2.5\n",
      "World War II\n",
      "2.6\n",
      "Post-war history\n",
      "3\n",
      "Geography\n",
      "3.1\n",
      "Climate\n",
      "3.2\n",
      "Gardens\n",
      "4\n",
      "Governance\n",
      "4.1\n",
      "State and Holy See\n",
      "4.2\n",
      "Structure\n",
      "4.2.1\n",
      "Sede vacante\n",
      "4.2.2\n",
      "Papal nobility\n",
      "4.3\n",
      "Head of state\n",
      "4.4\n",
      "Government and justice\n",
      "4.5\n",
      "National and public security\n",
      "4.5.1\n",
      "Crime\n",
      "4.6\n",
      "Foreign relations\n",
      "4.6.1\n",
      "Non-party, non-signatory policy\n",
      "5\n",
      "Economy\n",
      "6\n",
      "Demographics\n",
      "6.1\n",
      "Languages\n",
      "6.2\n",
      "Citizenship\n",
      "6.3\n",
      "Statistical oddities\n",
      "7\n",
      "Culture\n",
      "7.1\n",
      "Cultural heritage\n",
      "7.2\n",
      "Science\n",
      "7.3\n",
      "Sport\n",
      "8\n",
      "Infrastructure and public services\n",
      "8.1\n",
      "Transport\n",
      "8.2\n",
      "Telecommunications and mass media\n",
      "8.3\n",
      "Postal service\n",
      "8.4\n",
      "Healthcare\n",
      "8.5\n",
      "Recycling\n",
      "9\n",
      "See also\n",
      "10\n",
      "References\n",
      "10.1\n",
      "Footnotes\n",
      "10.2\n",
      "Citation notes\n",
      "10.3\n",
      "Bibliography\n",
      "11\n",
      "Further reading\n",
      "12\n",
      "External links\n"
     ]
    }
   ],
   "source": [
    "Table_of_contents = soup.find('ul', class_ = 'vector-toc-contents')\n",
    "headings = Table_of_contents.find_all('div', class_ = 'vector-toc-text')\n",
    "for heading in headings:\n",
    "    print(heading.text.strip())"
   ]
  }
 ],
 "metadata": {
  "kernelspec": {
   "display_name": "Python 3",
   "language": "python",
   "name": "python3"
  },
  "language_info": {
   "codemirror_mode": {
    "name": "ipython",
    "version": 3
   },
   "file_extension": ".py",
   "mimetype": "text/x-python",
   "name": "python",
   "nbconvert_exporter": "python",
   "pygments_lexer": "ipython3",
   "version": "3.12.7"
  }
 },
 "nbformat": 4,
 "nbformat_minor": 2
}
