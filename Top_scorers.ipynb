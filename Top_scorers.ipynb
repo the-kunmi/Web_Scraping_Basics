{
 "cells": [
  {
   "cell_type": "markdown",
   "metadata": {},
   "source": [
    "Install necessary Fake useragent"
   ]
  },
  {
   "cell_type": "code",
   "execution_count": 1,
   "metadata": {},
   "outputs": [
    {
     "name": "stdout",
     "output_type": "stream",
     "text": [
      "Requirement already satisfied: fake_useragent in /home/gitpod/.pyenv/versions/3.12.7/lib/python3.12/site-packages (2.0.3)\n",
      "Requirement already satisfied: pandas in /home/gitpod/.pyenv/versions/3.12.7/lib/python3.12/site-packages (2.2.3)\n",
      "Requirement already satisfied: numpy>=1.26.0 in /home/gitpod/.pyenv/versions/3.12.7/lib/python3.12/site-packages (from pandas) (2.2.2)\n",
      "Requirement already satisfied: python-dateutil>=2.8.2 in /home/gitpod/.pyenv/versions/3.12.7/lib/python3.12/site-packages (from pandas) (2.9.0.post0)\n",
      "Requirement already satisfied: pytz>=2020.1 in /home/gitpod/.pyenv/versions/3.12.7/lib/python3.12/site-packages (from pandas) (2024.2)\n",
      "Requirement already satisfied: tzdata>=2022.7 in /home/gitpod/.pyenv/versions/3.12.7/lib/python3.12/site-packages (from pandas) (2025.1)\n",
      "Requirement already satisfied: six>=1.5 in /home/gitpod/.pyenv/versions/3.12.7/lib/python3.12/site-packages (from python-dateutil>=2.8.2->pandas) (1.16.0)\n",
      "\n",
      "\u001b[1m[\u001b[0m\u001b[34;49mnotice\u001b[0m\u001b[1;39;49m]\u001b[0m\u001b[39;49m A new release of pip is available: \u001b[0m\u001b[31;49m24.2\u001b[0m\u001b[39;49m -> \u001b[0m\u001b[32;49m24.3.1\u001b[0m\n",
      "\u001b[1m[\u001b[0m\u001b[34;49mnotice\u001b[0m\u001b[1;39;49m]\u001b[0m\u001b[39;49m To update, run: \u001b[0m\u001b[32;49mpip install --upgrade pip\u001b[0m\n",
      "Note: you may need to restart the kernel to use updated packages.\n"
     ]
    }
   ],
   "source": [
    "pip install fake_useragent pandas"
   ]
  },
  {
   "cell_type": "markdown",
   "metadata": {},
   "source": [
    "Import necessary libraries"
   ]
  },
  {
   "cell_type": "code",
   "execution_count": 2,
   "metadata": {},
   "outputs": [],
   "source": [
    "import requests\n",
    "import pandas as pd\n",
    "from bs4 import BeautifulSoup\n",
    "from fake_useragent import UserAgent"
   ]
  },
  {
   "cell_type": "markdown",
   "metadata": {},
   "source": [
    "Genereating Headers"
   ]
  },
  {
   "cell_type": "code",
   "execution_count": 3,
   "metadata": {},
   "outputs": [
    {
     "name": "stdout",
     "output_type": "stream",
     "text": [
      "<Response [200]>\n"
     ]
    }
   ],
   "source": [
    "url = 'https://www.worldfootball.net/top_scorer/eng-premier-league//'\n",
    "ua = UserAgent()\n",
    "userAgent = ua.random\n",
    "headers = {'User-Agent' : userAgent}\n",
    "jumia_page= requests.get(url, headers= headers)\n",
    "soup = BeautifulSoup(jumia_page.content, 'html.parser')\n",
    "print(jumia_page)"
   ]
  },
  {
   "cell_type": "markdown",
   "metadata": {},
   "source": [
    "Scraping Top Scorers Table"
   ]
  },
  {
   "cell_type": "code",
   "execution_count": 4,
   "metadata": {},
   "outputs": [
    {
     "name": "stdout",
     "output_type": "stream",
     "text": [
      "[['Season', 'None', 'Top scorer', 'None2', 'Team', 'goals', 'Country', 'None3'], [], ['2023/2024', '', 'Erling Haaland', '', 'Manchester City', '27', 'Norway', 'Manchester City'], ['2022/2023', '', 'Erling Haaland', '', 'Manchester City', '36', 'Norway', 'Manchester City'], ['2021/2022', '', 'Mohamed Salah', '', 'Liverpool FC', '23', 'Egypt', 'Liverpool FC'], ['', '', 'Heung-min Son', '', 'Tottenham Hotspur', '23', 'South Korea', 'Tottenham Hotspur'], ['2020/2021', '', 'Harry Kane', '', 'Tottenham Hotspur', '23', 'England', 'Tottenham Hotspur'], ['2019/2020', '', 'Jamie Vardy', '', 'Leicester City', '23', 'England', 'Leicester City'], ['2018/2019', '', 'Sadio Mané', '', 'Liverpool FC', '22', 'Senegal', 'Liverpool FC'], ['', '', 'Pierre-Emerick Aubameyang', '', 'Arsenal FC', '22', 'Gabon', 'Arsenal FC'], ['', '', 'Mohamed Salah', '', 'Liverpool FC', '22', 'Egypt', 'Liverpool FC'], ['2017/2018', '', 'Mohamed Salah', '', 'Liverpool FC', '32', 'Egypt', 'Liverpool FC'], ['2016/2017', '', 'Harry Kane', '', 'Tottenham Hotspur', '29', 'England', 'Tottenham Hotspur'], ['2015/2016', '', 'Harry Kane', '', 'Tottenham Hotspur', '25', 'England', 'Tottenham Hotspur'], ['2014/2015', '', 'Kun Agüero', '', 'Manchester City', '26', 'Argentina', 'Manchester City'], ['2013/2014', '', 'Luis Suárez', '', 'Liverpool FC', '31', 'Uruguay', 'Liverpool FC'], ['2012/2013', '', 'Robin van Persie', '', 'Manchester United', '26', 'Netherlands', 'Manchester United'], ['2011/2012', '', 'Robin van Persie', '', 'Arsenal FC', '30', 'Netherlands', 'Arsenal FC'], ['2010/2011', '', 'Dimitar Berbatov', '', 'Manchester United', '21', 'Bulgaria', 'Manchester United'], ['', '', 'Carlos Tévez', '', 'Manchester City', '21', 'Argentina', 'Manchester City'], ['2009/2010', '', 'Didier Drogba', '', 'Chelsea FC', '29', 'Ivory Coast', 'Chelsea FC'], ['2008/2009', '', 'Nicolas Anelka', '', 'Chelsea FC', '19', 'France', 'Chelsea FC'], ['2007/2008', '', 'Cristiano Ronaldo', '', 'Manchester United', '31', 'Portugal', 'Manchester United'], ['2006/2007', '', 'Didier Drogba', '', 'Chelsea FC', '20', 'Ivory Coast', 'Chelsea FC'], ['2005/2006', '', 'Thierry Henry', '', 'Arsenal FC', '27', 'France', 'Arsenal FC'], ['2004/2005', '', 'Thierry Henry', '', 'Arsenal FC', '25', 'France', 'Arsenal FC'], ['2003/2004', '', 'Thierry Henry', '', 'Arsenal FC', '30', 'France', 'Arsenal FC'], ['2002/2003', '', 'Ruud van Nistelrooy', '', 'Manchester United', '25', 'Netherlands', 'Manchester United'], ['2001/2002', '', 'Thierry Henry', '', 'Arsenal FC', '24', 'France', 'Arsenal FC'], ['2000/2001', '', 'Jimmy Floyd Hasselbaink', '', 'Chelsea FC', '23', 'Netherlands', 'Chelsea FC'], ['1999/2000', '', 'Kevin Phillips', '', 'Sunderland AFC', '30', 'England', 'Sunderland AFC'], ['1998/1999', '', 'Michael Owen', '', 'Liverpool FC', '18', 'England', 'Liverpool FC'], ['', '', 'Jimmy Floyd Hasselbaink', '', 'Leeds United', '18', 'Netherlands', 'Leeds United'], ['', '', 'Dwight Yorke', '', 'Manchester United', '18', 'Trinidad & Tobago', 'Manchester United'], ['1997/1998', '', 'Michael Owen', '', 'Liverpool FC', '18', 'England', 'Liverpool FC'], ['', '', 'Dion Dublin', '', 'Coventry City', '18', 'England', 'Coventry City'], ['', '', 'Chris Sutton', '', 'Blackburn Rovers', '18', 'England', 'Blackburn Rovers'], ['1996/1997', '', 'Alan Shearer', '', 'Newcastle United', '25', 'England', 'Newcastle United'], ['1995/1996', '', 'Alan Shearer', '', 'Blackburn Rovers', '31', 'England', 'Blackburn Rovers'], ['1994/1995', '', 'Alan Shearer', '', 'Blackburn Rovers', '34', 'England', 'Blackburn Rovers'], ['1993/1994', '', 'Andy Cole', '', 'Newcastle United', '34', 'England', 'Newcastle United'], ['1992/1993', '', 'Teddy Sheringham', '', 'Tottenham Hotspur', '22', 'England', 'Tottenham Hotspur'], ['1991/1992', '', 'Ian Wright', '', 'Arsenal FC', '29', 'England', 'Arsenal FC'], ['1990/1991', '', 'Alan Smith', '', 'Arsenal FC', '23', 'England', 'Arsenal FC'], ['1989/1990', '', 'Gary Lineker', '', 'Tottenham Hotspur', '24', 'England', 'Tottenham Hotspur'], ['1988/1989', '', 'Alan Smith', '', 'Arsenal FC', '23', 'England', 'Arsenal FC'], ['1987/1988', '', 'John Aldridge', '', 'Liverpool FC', '26', 'Ireland', 'Liverpool FC'], ['1986/1987', '', 'Clive Allen', '', 'Tottenham Hotspur', '33', 'England', 'Tottenham Hotspur'], ['1985/1986', '', 'Gary Lineker', '', 'Everton FC', '30', 'England', 'Everton FC'], ['1984/1985', '', 'Kerry Dixon', '', 'Chelsea FC', '24', 'England', 'Chelsea FC'], ['', '', 'Gary Lineker', '', 'Leicester City', '24', 'England', 'Leicester City'], ['1983/1984', '', 'Ian Rush', '', 'Liverpool FC', '32', 'Wales', 'Liverpool FC'], ['1982/1983', '', 'Luther Blissett', '', 'Watford FC', '27', 'England', 'Watford FC'], ['1981/1982', '', 'Kevin Keegan', '', 'Southampton FC', '26', 'England', 'Southampton FC'], ['1980/1981', '', 'Steve Archibald', '', 'Tottenham Hotspur', '20', 'Scotland', 'Tottenham Hotspur'], ['', '', 'Peter Withe', '', 'Aston Villa', '20', 'England', 'Aston Villa'], ['1979/1980', '', 'Phil Boyer', '', 'Southampton FC', '23', 'England', 'Southampton FC'], ['1978/1979', '', 'Frank Worthington', '', 'Bolton Wanderers', '24', 'England', 'Bolton Wanderers'], ['1977/1978', '', 'Bob Latchford', '', 'Everton FC', '30', 'England', 'Everton FC'], ['1976/1977', '', 'Malcolm MacDonald', '', 'Arsenal FC', '25', 'England', 'Arsenal FC'], ['', '', 'Andy Gray', '', 'Aston Villa', '25', 'Scotland', 'Aston Villa'], ['1975/1976', '', 'Ted MacDougall', '', 'Norwich City', '23', 'Scotland', 'Norwich City'], ['1974/1975', '', 'Malcolm MacDonald', '', 'Newcastle United', '21', 'England', 'Newcastle United'], ['1973/1974', '', 'Mick Channon', '', 'Southampton FC', '21', 'England', 'Southampton FC'], ['1972/1973', '', 'Bryan Robson', '', 'West Ham United', '28', 'England', 'West Ham United'], ['1971/1972', '', 'Francis Lee', '', 'Manchester City', '33', 'England', 'Manchester City'], ['1970/1971', '', 'Tony Brown', '', 'West Bromwich Albion', '28', 'England', 'West Bromwich Albion'], ['1969/1970', '', 'Jeffrey Astle', '', 'West Bromwich Albion', '25', 'England', 'West Bromwich Albion'], ['1968/1969', '', 'Jimmy Greaves', '', 'Tottenham Hotspur', '27', 'England', 'Tottenham Hotspur'], ['1967/1968', '', 'Ron Davies', '', 'Southampton FC', '28', 'Wales', 'Southampton FC'], ['', '', 'George Best', '', 'Manchester United', '28', 'Northern Ireland', 'Manchester United'], ['1966/1967', '', 'Ron Davies', '', 'Southampton FC', '37', 'Wales', 'Southampton FC'], ['1965/1966', '', 'Willie Irvine', '', 'Burnley FC', '29', 'Northern Ireland', 'Burnley FC'], ['', '', 'Roger Hunt', '', 'Liverpool FC', '29', 'England', 'Liverpool FC'], ['1964/1965', '', 'Jimmy Greaves', '', 'Tottenham Hotspur', '29', 'England', 'Tottenham Hotspur'], ['', '', 'Andy McEvoy', '', 'Blackburn Rovers', '29', 'Ireland', 'Blackburn Rovers'], ['1963/1964', '', 'Jimmy Greaves', '', 'Tottenham Hotspur', '35', 'England', 'Tottenham Hotspur'], ['1962/1963', '', 'Jimmy Greaves', '', 'Tottenham Hotspur', '37', 'England', 'Tottenham Hotspur'], ['1961/1962', '', 'Raymond Crawford', '', 'Ipswich Town', '33', 'England', 'Ipswich Town'], ['', '', 'Derek Kevan', '', 'West Bromwich Albion', '33', 'England', 'West Bromwich Albion'], ['1960/1961', '', 'Jimmy Greaves', '', 'Chelsea FC', '41', 'England', 'Chelsea FC'], ['1959/1960', '', 'Dennis Viollet', '', 'Manchester United', '32', 'England', 'Manchester United'], ['1958/1959', '', 'Jimmy Greaves', '', 'Chelsea FC', '32', 'England', 'Chelsea FC'], ['', '', 'Bobby Smith', '', 'Tottenham Hotspur', '32', 'England', 'Tottenham Hotspur'], ['1957/1958', '', 'Bobby Smith', '', 'Tottenham Hotspur', '36', 'England', 'Tottenham Hotspur'], ['1956/1957', '', 'John Charles', '', 'Leeds United', '38', 'Wales', 'Leeds United'], ['1955/1956', '', 'Nat Lofthouse', '', 'Bolton Wanderers', '32', 'England', 'Bolton Wanderers'], ['1954/1955', '', 'Ronnie Allen', '', 'West Bromwich Albion', '27', 'England', 'West Bromwich Albion'], ['1953/1954', '', 'Jimmy Glazzard', '', 'Huddersfield Town', '29', 'England', 'Huddersfield Town'], ['1952/1953', '', 'Peter Harris', '', 'Portsmouth FC', '23', 'England', 'Portsmouth FC'], ['', '', 'Charlie Wayman', '', 'Preston North End', '23', 'England', 'Preston North End'], ['1951/1952', '', 'Jorge Robledo', '', 'Newcastle United', '33', 'Chile', 'Newcastle United'], ['1950/1951', '', 'Stan Mortensen', '', 'Blackpool FC', '30', 'England', 'Blackpool FC'], ['1949/1950', '', 'Dickie Davis', '', 'Manchester United', '25', 'Ireland', 'Manchester United'], ['1948/1949', '', 'Willie Moir', '', 'Bolton Wanderers', '25', 'Scotland', 'Bolton Wanderers'], ['1947/1948', '', 'Ronnie Rooke', '', 'Arsenal FC', '33', 'England', 'Arsenal FC'], ['1946/1947', '', 'Dennis Westcott', '', 'Wolverhampton Wanderers', '38', 'England', 'Wolverhampton Wanderers'], ['1938/1939', '', 'Tommy Lawton', '', 'Everton FC', '34', 'England', 'Everton FC'], ['', '', 'Micky Fenton', '', 'Middlesbrough FC', '34', 'England', 'Middlesbrough FC'], ['1937/1938', '', 'Tommy Lawton', '', 'Everton FC', '28', 'England', 'Everton FC'], ['1936/1937', '', 'Freddie Steele', '', 'Stoke City', '33', 'England', 'Stoke City'], ['1935/1936', '', 'Ginger Richardson', '', 'West Bromwich Albion', '39', 'England', 'West Bromwich Albion'], ['1934/1935', '', 'Ted Drake', '', 'Arsenal FC', '42', 'England', 'Arsenal FC'], ['1933/1934', '', 'Jack Bowers', '', 'Derby County', '34', 'England', 'Derby County'], ['1932/1933', '', 'Jack Bowers', '', 'Derby County', '35', 'England', 'Derby County'], ['1931/1932', '', 'Dixie Dean', '', 'Everton FC', '44', 'England', 'Everton FC'], ['1930/1931', '', 'Tom Waring', '', 'Aston Villa', '49', 'England', 'Aston Villa'], ['1929/1930', '', 'Vic Watson', '', 'West Ham United', '41', 'England', 'West Ham United'], ['1928/1929', '', 'Dave Halliday', '', 'Sunderland AFC', '43', 'Scotland', 'Sunderland AFC'], ['1927/1928', '', 'Dixie Dean', '', 'Everton FC', '60', 'England', 'Everton FC'], ['1926/1927', '', 'Jimmy Trotter', '', 'Sheffield Wednesday', '37', 'England', 'Sheffield Wednesday'], ['1925/1926', '', 'Ted Harper', '', 'Blackburn Rovers', '43', 'England', 'Blackburn Rovers'], ['1924/1925', '', 'Frank Roberts', '', 'Manchester City', '31', 'England', 'Manchester City'], ['1923/1924', '', 'Wilf Chadwick', '', 'Everton FC', '28', 'England', 'Everton FC'], ['1922/1923', '', 'Charlie Buchan', '', 'Sunderland AFC', '30', 'England', 'Sunderland AFC'], ['1921/1922', '', 'Andy Wilson', '', 'Middlesbrough FC', '31', 'Scotland', 'Middlesbrough FC'], ['1920/1921', '', 'Joe Smith', '', 'Bolton Wanderers', '38', 'England', 'Bolton Wanderers'], ['1919/1920', '', 'Fred Morris', '', 'West Bromwich Albion', '37', 'England', 'West Bromwich Albion'], ['1914/1915', '', 'Bobby Parker', '', 'Everton FC', '35', 'Scotland', 'Everton FC'], ['1913/1914', '', 'George Elliott', '', 'Middlesbrough FC', '32', 'England', 'Middlesbrough FC'], ['1912/1913', '', 'David McLean', '', 'Sheffield Wednesday', '30', 'Scotland', 'Sheffield Wednesday'], ['1911/1912', '', 'Harry Hampton', '', 'Aston Villa', '25', 'England', 'Aston Villa'], ['', '', 'George Holley', '', 'Sunderland AFC', '25', 'England', 'Sunderland AFC'], ['', '', 'David McLean', '', 'Sheffield Wednesday', '25', 'Scotland', 'Sheffield Wednesday'], ['1910/1911', '', 'Albert Shepherd', '', 'Newcastle United', '25', 'England', 'Newcastle United'], ['1909/1910', '', 'Jack Parkinson', '', 'Liverpool FC', '30', 'England', 'Liverpool FC'], ['1908/1909', '', 'Bert Freeman', '', 'Everton FC', '38', 'England', 'Everton FC'], ['1907/1908', '', 'Enoch West', '', 'Nottingham Forest', '27', 'England', 'Nottingham Forest'], ['1906/1907', '', 'Alexander Young', '', 'Everton FC', '28', 'Scotland', 'Everton FC'], ['1905/1906', '', 'Albert Shepherd', '', 'Bolton Wanderers', '26', 'England', 'Bolton Wanderers'], ['1904/1905', '', 'Arthur Samuel Brown', '', 'Sheffield United', '22', 'England', 'Sheffield United'], ['1903/1904', '', 'Steve Bloomer', '', 'Derby County', '20', 'England', 'Derby County'], ['1902/1903', '', 'Sam Raybould', '', 'Liverpool FC', '31', 'England', 'Liverpool FC'], ['1901/1902', '', 'Jimmy Settle', '', 'Everton FC', '18', 'England', 'Everton FC'], ['1900/1901', '', 'Steve Bloomer', '', 'Derby County', '23', 'England', 'Derby County'], ['1899/1900', '', 'Billy Garraty', '', 'Aston Villa', '27', 'England', 'Aston Villa'], ['1898/1899', '', 'Steve Bloomer', '', 'Derby County', '23', 'England', 'Derby County'], ['1897/1898', '', 'Fred Wheldon', '', 'Aston Villa', '21', 'England', 'Aston Villa'], ['1896/1897', '', 'Steve Bloomer', '', 'Derby County', '22', 'England', 'Derby County'], ['1895/1896', '', 'Steve Bloomer', '', 'Derby County', '20', 'England', 'Derby County'], ['', '', 'John Campbell', '', 'Aston Villa', '20', 'Scotland', 'Aston Villa'], ['1894/1895', '', 'Johnny Campbell', '', 'Sunderland AFC', '22', 'Scotland', 'Sunderland AFC'], ['1893/1894', '', 'Jack Southworth', '', 'Everton FC', '27', 'England', 'Everton FC'], ['1892/1893', '', 'Johnny Campbell', '', 'Sunderland AFC', '31', 'Scotland', 'Sunderland AFC'], ['1891/1892', '', 'Johnny Campbell', '', 'Sunderland AFC', '32', 'Scotland', 'Sunderland AFC'], ['1890/1891', '', 'Jack Southworth', '', 'Blackburn Rovers', '26', 'England', 'Blackburn Rovers'], ['1889/1890', '', 'Jimmy Ross', '', 'Preston North End', '21', 'Scotland', 'Preston North End'], ['1888/1889', '', 'John Goodall', '', 'Preston North End', '21', 'England', 'Preston North End']]\n",
      "['1888/1889', '', 'John Goodall', '', 'Preston North End', '21', 'England', 'Preston North End']\n"
     ]
    }
   ],
   "source": [
    "# scraping the table\n",
    "Football_table = soup.find('table', class_=\"standard_tabelle\")\n",
    "\n",
    "# scraping the table headers\n",
    "table_head = soup.find_all('td', class_=\"ueberschrift\")\n",
    "cleaned_table_head = [cell.text.strip() for cell in table_head]\n",
    "\n",
    "# Scraping table rows\n",
    "rows = Football_table.find_all(\"tr\")\n",
    "\n",
    "data = []\n",
    "cleaned_table_rows=[]\n",
    "\n",
    "# Loop through the rows\n",
    "for i in rows:\n",
    "    table_rows = i.find_all(\"td\", class_=[\"hell\", \"dunkel\"])  # Find table rows with specific classes\n",
    "    cleaned_table_rows = [ell.text.strip() for ell in table_rows]\n",
    "\n",
    "    # Extract country name from the image alt attribute\n",
    "    for t in table_rows:\n",
    "        country_img = t.find(\"img\")\n",
    "        if country_img:\n",
    "            Country = country_img.get(\"alt\", \"\").strip()\n",
    "            cleaned_table_rows.append(Country)\n",
    "    \n",
    "    data.append(cleaned_table_rows)\n",
    "\n",
    "# Insert the table headers into the table i.e. data\n",
    "data.insert(0, cleaned_table_head)\n",
    "\n",
    "# Updating the table headers to account for empty columns\n",
    "data[0] = ['Season', 'None', 'Top scorer', 'None2', 'Team', 'goals', 'Country', 'None3'] \n",
    "\n",
    "print(data)\n",
    "print(cleaned_table_rows)\n",
    "\n"
   ]
  },
  {
   "cell_type": "code",
   "execution_count": 5,
   "metadata": {},
   "outputs": [
    {
     "name": "stdout",
     "output_type": "stream",
     "text": [
      "0       Season       Top scorer               Team goals      Country\n",
      "2    2023/2024   Erling Haaland    Manchester City    27       Norway\n",
      "3    2022/2023   Erling Haaland    Manchester City    36       Norway\n",
      "4    2021/2022    Mohamed Salah       Liverpool FC    23        Egypt\n",
      "5                 Heung-min Son  Tottenham Hotspur    23  South Korea\n",
      "6    2020/2021       Harry Kane  Tottenham Hotspur    23      England\n",
      "..         ...              ...                ...   ...          ...\n",
      "143  1892/1893  Johnny Campbell     Sunderland AFC    31     Scotland\n",
      "144  1891/1892  Johnny Campbell     Sunderland AFC    32     Scotland\n",
      "145  1890/1891  Jack Southworth   Blackburn Rovers    26      England\n",
      "146  1889/1890       Jimmy Ross  Preston North End    21     Scotland\n",
      "147  1888/1889     John Goodall  Preston North End    21      England\n",
      "\n",
      "[146 rows x 5 columns]\n"
     ]
    }
   ],
   "source": [
    "# save data into a dataframe\n",
    "Top_scorers_table = pd.DataFrame(data)\n",
    "\n",
    "# make first rows the header\n",
    "if not Top_scorers_table.empty:\n",
    "    Top_scorers_table.columns = Top_scorers_table.iloc[0]  # Use the first row as header\n",
    "    Top_scorers_table = Top_scorers_table[1:]\n",
    "\n",
    "# drop empty columns\n",
    "Top_scorers_table.drop(['None', 'None2', 'None3'], axis=1, inplace=True)\n",
    "\n",
    "# drop first empty row that is not the header\n",
    "Top_scorers_table.drop(1, inplace=True)\n",
    "first_5_rows = Top_scorers_table[:5]\n",
    "\n",
    "# print Top scorers table\n",
    "print(Top_scorers_table)\n"
   ]
  }
 ],
 "metadata": {
  "kernelspec": {
   "display_name": "Python 3",
   "language": "python",
   "name": "python3"
  },
  "language_info": {
   "codemirror_mode": {
    "name": "ipython",
    "version": 3
   },
   "file_extension": ".py",
   "mimetype": "text/x-python",
   "name": "python",
   "nbconvert_exporter": "python",
   "pygments_lexer": "ipython3",
   "version": "3.12.7"
  }
 },
 "nbformat": 4,
 "nbformat_minor": 2
}
