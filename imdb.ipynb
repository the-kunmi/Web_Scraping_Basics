{
 "cells": [
  {
   "cell_type": "markdown",
   "metadata": {},
   "source": [
    "Installing Fake_useragent and Pandas"
   ]
  },
  {
   "cell_type": "code",
   "execution_count": 1,
   "metadata": {},
   "outputs": [
    {
     "name": "stdout",
     "output_type": "stream",
     "text": [
      "Collecting fake_useragent\n",
      "  Using cached fake_useragent-2.0.3-py3-none-any.whl.metadata (17 kB)\n",
      "Collecting pandas\n",
      "  Using cached pandas-2.2.3-cp312-cp312-manylinux_2_17_x86_64.manylinux2014_x86_64.whl.metadata (89 kB)\n",
      "Collecting numpy>=1.26.0 (from pandas)\n",
      "  Using cached numpy-2.2.2-cp312-cp312-manylinux_2_17_x86_64.manylinux2014_x86_64.whl.metadata (62 kB)\n",
      "Requirement already satisfied: python-dateutil>=2.8.2 in /home/gitpod/.pyenv/versions/3.12.7/lib/python3.12/site-packages (from pandas) (2.9.0.post0)\n",
      "Collecting pytz>=2020.1 (from pandas)\n",
      "  Downloading pytz-2025.1-py2.py3-none-any.whl.metadata (22 kB)\n",
      "Collecting tzdata>=2022.7 (from pandas)\n",
      "  Using cached tzdata-2025.1-py2.py3-none-any.whl.metadata (1.4 kB)\n",
      "Requirement already satisfied: six>=1.5 in /home/gitpod/.pyenv/versions/3.12.7/lib/python3.12/site-packages (from python-dateutil>=2.8.2->pandas) (1.16.0)\n",
      "Using cached fake_useragent-2.0.3-py3-none-any.whl (201 kB)\n",
      "Using cached pandas-2.2.3-cp312-cp312-manylinux_2_17_x86_64.manylinux2014_x86_64.whl (12.7 MB)\n",
      "Using cached numpy-2.2.2-cp312-cp312-manylinux_2_17_x86_64.manylinux2014_x86_64.whl (16.1 MB)\n",
      "Downloading pytz-2025.1-py2.py3-none-any.whl (507 kB)\n",
      "Using cached tzdata-2025.1-py2.py3-none-any.whl (346 kB)\n",
      "Installing collected packages: pytz, tzdata, numpy, fake_useragent, pandas\n",
      "Successfully installed fake_useragent-2.0.3 numpy-2.2.2 pandas-2.2.3 pytz-2025.1 tzdata-2025.1\n",
      "\n",
      "\u001b[1m[\u001b[0m\u001b[34;49mnotice\u001b[0m\u001b[1;39;49m]\u001b[0m\u001b[39;49m A new release of pip is available: \u001b[0m\u001b[31;49m24.2\u001b[0m\u001b[39;49m -> \u001b[0m\u001b[32;49m25.0\u001b[0m\n",
      "\u001b[1m[\u001b[0m\u001b[34;49mnotice\u001b[0m\u001b[1;39;49m]\u001b[0m\u001b[39;49m To update, run: \u001b[0m\u001b[32;49mpip install --upgrade pip\u001b[0m\n",
      "Note: you may need to restart the kernel to use updated packages.\n"
     ]
    }
   ],
   "source": [
    "pip install fake_useragent pandas"
   ]
  },
  {
   "cell_type": "markdown",
   "metadata": {},
   "source": [
    "Importing all necessary libraries"
   ]
  },
  {
   "cell_type": "code",
   "execution_count": 2,
   "metadata": {},
   "outputs": [],
   "source": [
    "import requests\n",
    "from bs4 import BeautifulSoup\n",
    "from fake_useragent import UserAgent\n",
    "import pandas as pd"
   ]
  },
  {
   "cell_type": "markdown",
   "metadata": {},
   "source": [
    "Setting up IMDb Scraper"
   ]
  },
  {
   "cell_type": "code",
   "execution_count": 3,
   "metadata": {},
   "outputs": [],
   "source": [
    "url = 'https://www.imdb.com/chart/boxoffice/?ref_=nv_ch_cht'\n",
    "ua = UserAgent()\n",
    "userAgent = ua.random\n",
    "headers = {'User-Agent': userAgent}\n",
    "page = requests.get(url, headers = headers)\n",
    "soup = BeautifulSoup(page.content, 'html.parser')"
   ]
  },
  {
   "cell_type": "markdown",
   "metadata": {},
   "source": [
    "Scraping The top 10 movies, thier titles, Numbers and Rate votes"
   ]
  },
  {
   "cell_type": "code",
   "execution_count": 4,
   "metadata": {},
   "outputs": [
    {
     "data": {
      "text/plain": [
       "['5.6 (4.5K)',\n",
       " '6.7 (35K)',\n",
       " '7.1 (2.5K)',\n",
       " '7.0 (37K)',\n",
       " '6.9 (70K)',\n",
       " '6.7 (4.3K)',\n",
       " '5.9 (9.5K)',\n",
       " '7.7 (22K)',\n",
       " '6.5 (7.3K)',\n",
       " '8.0 (14K)']"
      ]
     },
     "execution_count": 4,
     "metadata": {},
     "output_type": "execute_result"
    }
   ],
   "source": [
    "movie_box= soup.find_all('div', class_ = \"ipc-metadata-list-summary-item__c\")\n",
    "\n",
    "titles = []\n",
    "numbers = []\n",
    "rate_votes =[]\n",
    "for box in movie_box:\n",
    "\n",
    "    if box.find('h3', class_ = \"ipc-title__text\") is not None:\n",
    "            title = box.find('h3', class_= \"ipc-title__text\")\n",
    "            titles.append(title.text)\n",
    "    else:\n",
    "        titles.append('None')\n",
    "\n",
    "    if box.find('ul', attrs={'data-testid' : \"title-metadata-box-office-data-container\"}) is not None:\n",
    "            number = box.find('ul', attrs={'data-testid' : \"title-metadata-box-office-data-container\"})\n",
    "            numbers.append(number.text)\n",
    "    else:\n",
    "        numbers.append('None')\n",
    "\n",
    "    if box.find('span', class_ = \"ipc-rating-star ipc-rating-star--base ipc-rating-star--imdb ratingGroup--imdb-rating\") is not None:\n",
    "        rate_vote = box.find('span', class_ =\"ipc-rating-star ipc-rating-star--base ipc-rating-star--imdb ratingGroup--imdb-rating\")\n",
    "        rate_votes.append(rate_vote.text.replace('\\xa0', ' '))\n",
    "    else:\n",
    "        rate_votes.append('None')\n",
    "\n",
    "\n",
    "rate_votes"
   ]
  },
  {
   "cell_type": "markdown",
   "metadata": {},
   "source": [
    "Saving them into a Panda DataFrame"
   ]
  },
  {
   "cell_type": "code",
   "execution_count": 5,
   "metadata": {},
   "outputs": [
    {
     "data": {
      "text/html": [
       "<div>\n",
       "<style scoped>\n",
       "    .dataframe tbody tr th:only-of-type {\n",
       "        vertical-align: middle;\n",
       "    }\n",
       "\n",
       "    .dataframe tbody tr th {\n",
       "        vertical-align: top;\n",
       "    }\n",
       "\n",
       "    .dataframe thead th {\n",
       "        text-align: right;\n",
       "    }\n",
       "</style>\n",
       "<table border=\"1\" class=\"dataframe\">\n",
       "  <thead>\n",
       "    <tr style=\"text-align: right;\">\n",
       "      <th></th>\n",
       "      <th>Titles</th>\n",
       "      <th>Numbers</th>\n",
       "      <th>Rate_Votes</th>\n",
       "    </tr>\n",
       "  </thead>\n",
       "  <tbody>\n",
       "    <tr>\n",
       "      <th>0</th>\n",
       "      <td>1. Flight Risk</td>\n",
       "      <td>Weekend Gross: $12MTotal Gross: $15MWeeks Rele...</td>\n",
       "      <td>5.6 (4.5K)</td>\n",
       "    </tr>\n",
       "    <tr>\n",
       "      <th>1</th>\n",
       "      <td>2. Mufasa: The Lion King</td>\n",
       "      <td>Weekend Gross: $8.6MTotal Gross: $223MWeeks Re...</td>\n",
       "      <td>6.7 (35K)</td>\n",
       "    </tr>\n",
       "    <tr>\n",
       "      <th>2</th>\n",
       "      <td>3. One of Them Days</td>\n",
       "      <td>Weekend Gross: $8MTotal Gross: $28MWeeks Relea...</td>\n",
       "      <td>7.1 (2.5K)</td>\n",
       "    </tr>\n",
       "    <tr>\n",
       "      <th>3</th>\n",
       "      <td>4. Sonic the Hedgehog 3</td>\n",
       "      <td>Weekend Gross: $5.3MTotal Gross: $227MWeeks Re...</td>\n",
       "      <td>7.0 (37K)</td>\n",
       "    </tr>\n",
       "    <tr>\n",
       "      <th>4</th>\n",
       "      <td>5. Moana 2</td>\n",
       "      <td>Weekend Gross: $4.2MTotal Gross: $451MWeeks Re...</td>\n",
       "      <td>6.9 (70K)</td>\n",
       "    </tr>\n",
       "    <tr>\n",
       "      <th>5</th>\n",
       "      <td>6. Presence</td>\n",
       "      <td>Weekend Gross: $3.3MTotal Gross: $4.3MWeeks Re...</td>\n",
       "      <td>6.7 (4.3K)</td>\n",
       "    </tr>\n",
       "    <tr>\n",
       "      <th>6</th>\n",
       "      <td>7. Wolf Man</td>\n",
       "      <td>Weekend Gross: $3.2MTotal Gross: $19MWeeks Rel...</td>\n",
       "      <td>5.9 (9.5K)</td>\n",
       "    </tr>\n",
       "    <tr>\n",
       "      <th>7</th>\n",
       "      <td>8. A Complete Unknown</td>\n",
       "      <td>Weekend Gross: $3.1MTotal Gross: $64MWeeks Rel...</td>\n",
       "      <td>7.7 (22K)</td>\n",
       "    </tr>\n",
       "    <tr>\n",
       "      <th>8</th>\n",
       "      <td>9. Den of Thieves 2: Pantera</td>\n",
       "      <td>Weekend Gross: $3MTotal Gross: $33MWeeks Relea...</td>\n",
       "      <td>6.5 (7.3K)</td>\n",
       "    </tr>\n",
       "    <tr>\n",
       "      <th>9</th>\n",
       "      <td>10. The Brutalist</td>\n",
       "      <td>Weekend Gross: $2.9MTotal Gross: $9.3MWeeks Re...</td>\n",
       "      <td>8.0 (14K)</td>\n",
       "    </tr>\n",
       "  </tbody>\n",
       "</table>\n",
       "</div>"
      ],
      "text/plain": [
       "                         Titles  \\\n",
       "0                1. Flight Risk   \n",
       "1      2. Mufasa: The Lion King   \n",
       "2           3. One of Them Days   \n",
       "3       4. Sonic the Hedgehog 3   \n",
       "4                    5. Moana 2   \n",
       "5                   6. Presence   \n",
       "6                   7. Wolf Man   \n",
       "7         8. A Complete Unknown   \n",
       "8  9. Den of Thieves 2: Pantera   \n",
       "9             10. The Brutalist   \n",
       "\n",
       "                                             Numbers  Rate_Votes  \n",
       "0  Weekend Gross: $12MTotal Gross: $15MWeeks Rele...  5.6 (4.5K)  \n",
       "1  Weekend Gross: $8.6MTotal Gross: $223MWeeks Re...   6.7 (35K)  \n",
       "2  Weekend Gross: $8MTotal Gross: $28MWeeks Relea...  7.1 (2.5K)  \n",
       "3  Weekend Gross: $5.3MTotal Gross: $227MWeeks Re...   7.0 (37K)  \n",
       "4  Weekend Gross: $4.2MTotal Gross: $451MWeeks Re...   6.9 (70K)  \n",
       "5  Weekend Gross: $3.3MTotal Gross: $4.3MWeeks Re...  6.7 (4.3K)  \n",
       "6  Weekend Gross: $3.2MTotal Gross: $19MWeeks Rel...  5.9 (9.5K)  \n",
       "7  Weekend Gross: $3.1MTotal Gross: $64MWeeks Rel...   7.7 (22K)  \n",
       "8  Weekend Gross: $3MTotal Gross: $33MWeeks Relea...  6.5 (7.3K)  \n",
       "9  Weekend Gross: $2.9MTotal Gross: $9.3MWeeks Re...   8.0 (14K)  "
      ]
     },
     "execution_count": 5,
     "metadata": {},
     "output_type": "execute_result"
    }
   ],
   "source": [
    "movie_df = pd.DataFrame({\n",
    "    'Titles':titles,\n",
    "    'Numbers': numbers,\n",
    "    'Rate_Votes': rate_votes\n",
    "})\n",
    "movie_df"
   ]
  },
  {
   "cell_type": "markdown",
   "metadata": {},
   "source": [
    "Cleaning the dataframe and saving into a csv file"
   ]
  },
  {
   "cell_type": "code",
   "execution_count": 6,
   "metadata": {},
   "outputs": [],
   "source": [
    "movie_df['Titles'] = movie_df['Titles'].str.replace(r'^\\d+\\.\\s*', '', regex=True)\n",
    "movie_df['Numbers'] = movie_df['Numbers'].str.replace('Weekend Gross:', '')\n",
    "movie_df['Numbers'] = movie_df['Numbers'].str.replace('Total Gross: ', '|')\n",
    "movie_df['Numbers'] = movie_df['Numbers'].str.replace('Weeks Released: ', '|')\n",
    "movie_df[['Weekend Gross', 'Total Gross', 'Weeks Released']] = movie_df['Numbers'].str.split('|', expand=True)\n",
    "movie_df[['Rating','Vote_count']] = movie_df['Rate_Votes'].str.split(' ', expand= True)\n",
    "movie_df.drop(['Numbers', 'Rate_Votes'], axis=1, inplace=True)\n",
    "\n",
    "movie_df.to_csv('Movie_Data.csv', index=False)\n"
   ]
  }
 ],
 "metadata": {
  "kernelspec": {
   "display_name": "Python 3",
   "language": "python",
   "name": "python3"
  },
  "language_info": {
   "codemirror_mode": {
    "name": "ipython",
    "version": 3
   },
   "file_extension": ".py",
   "mimetype": "text/x-python",
   "name": "python",
   "nbconvert_exporter": "python",
   "pygments_lexer": "ipython3",
   "version": "3.12.7"
  }
 },
 "nbformat": 4,
 "nbformat_minor": 2
}
